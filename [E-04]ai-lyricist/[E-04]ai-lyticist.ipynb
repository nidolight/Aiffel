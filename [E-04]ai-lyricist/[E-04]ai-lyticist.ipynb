{
 "cells": [
  {
   "cell_type": "code",
   "execution_count": 1,
   "id": "3f37f232",
   "metadata": {},
   "outputs": [],
   "source": [
    "import glob\n",
    "import os\n",
    "import re\n",
    "import numpy as np\n",
    "import tensorflow as tf\n",
    "import matplotlib.pyplot as plt \n",
    "from sklearn.model_selection import train_test_split\n",
    "from sklearn.metrics import classification_report"
   ]
  },
  {
   "cell_type": "markdown",
   "id": "469d2465",
   "metadata": {},
   "source": [
    "___\n",
    "# 데이터 읽어오기"
   ]
  },
  {
   "cell_type": "code",
   "execution_count": 2,
   "id": "a895ce7f",
   "metadata": {},
   "outputs": [
    {
     "name": "stdout",
     "output_type": "stream",
     "text": [
      "데이터 크기: 187088\n",
      "Examples:\n",
      " [' There must be some kind of way outta here', 'Said the joker to the thief', \"There's too much confusion\"]\n"
     ]
    }
   ],
   "source": [
    "txt_file_path = \"./lyrics/*\"\n",
    "\n",
    "txt_list = glob.glob(txt_file_path)\n",
    "\n",
    "raw_corpus = []\n",
    "\n",
    "# 여러개의 txt 파일을 모두 읽어서 raw_corpus 에 담습니다.\n",
    "for txt_file in txt_list:\n",
    "    with open(txt_file, \"r\") as f:\n",
    "        raw = f.read().splitlines()\n",
    "        raw_corpus.extend(raw)\n",
    "\n",
    "print(\"데이터 크기:\", len(raw_corpus))\n",
    "print(\"Examples:\\n\", raw_corpus[:3])"
   ]
  },
  {
   "cell_type": "markdown",
   "id": "bc89c68b",
   "metadata": {},
   "source": [
    "___\n",
    "# 데이터 정제"
   ]
  },
  {
   "cell_type": "code",
   "execution_count": 3,
   "id": "570855f6",
   "metadata": {},
   "outputs": [
    {
     "name": "stdout",
     "output_type": "stream",
     "text": [
      "<start> this is sample sentence . <end>\n"
     ]
    }
   ],
   "source": [
    "def preprocess_sentence(sentence):\n",
    "    sentence = sentence.lower().strip() # 1\n",
    "    sentence = re.sub(r\"([?.!,¿])\", r\" \\1 \", sentence) # 2\n",
    "    sentence = re.sub(r'[\" \"]+', \" \", sentence) # 3\n",
    "    sentence = re.sub(r\"[^a-zA-Z?.!,¿]+\", \" \", sentence) # 4\n",
    "    sentence = sentence.strip() # 5\n",
    "    sentence = '<start> ' + sentence + ' <end>' # 6\n",
    "    return sentence\n",
    "\n",
    "# 문장 필터링 예시 출력\n",
    "print(preprocess_sentence(\"This @_is ;;;sample        sentence.\"))"
   ]
  },
  {
   "cell_type": "markdown",
   "id": "8dd5f304",
   "metadata": {},
   "source": [
    "## preprocess_sentence(sentence)\n",
    "     1. 소문자로 바꾸고, 양쪽 공백을 지웁니다\n",
    "     2. 특수문자 양쪽에 공백을 넣고\n",
    "     3. 여러개의 공백은 하나의 공백으로 바꿉니다\n",
    "     4. a-zA-Z?.!,¿가 아닌 모든 문자를 하나의 공백으로 바꿉니다\n",
    "     5. 다시 양쪽 공백을 지웁니다\n",
    "     6. 문장 시작에는 <start>, 끝에는 <end>를 추가합니다\n",
    " 이 순서로 처리해주어 문제가 되는 상황을 방지"
   ]
  },
  {
   "cell_type": "code",
   "execution_count": 4,
   "id": "eb6a8107",
   "metadata": {},
   "outputs": [
    {
     "data": {
      "text/plain": [
       "['<start> there must be some kind of way outta here <end>',\n",
       " '<start> said the joker to the thief <end>',\n",
       " '<start> there s too much confusion <end>',\n",
       " '<start> i can t get no relief business men , they drink my wine <end>',\n",
       " '<start> plowman dig my earth <end>',\n",
       " '<start> none were level on the mind <end>',\n",
       " '<start> nobody up at his word <end>',\n",
       " '<start> hey , hey no reason to get excited <end>',\n",
       " '<start> the thief he kindly spoke <end>',\n",
       " '<start> there are many here among us <end>']"
      ]
     },
     "execution_count": 4,
     "metadata": {},
     "output_type": "execute_result"
    }
   ],
   "source": [
    "#문장 정제하기\n",
    "corpus = []\n",
    "\n",
    "for sentence in raw_corpus:\n",
    "    if len(sentence) == 0: continue\n",
    "    if sentence[-1] == \":\": continue\n",
    "\n",
    "    preprocessed_sentence = preprocess_sentence(sentence)\n",
    "    corpus.append(preprocessed_sentence)\n",
    "        \n",
    "corpus[:10]"
   ]
  },
  {
   "cell_type": "code",
   "execution_count": 5,
   "id": "526ae8c4",
   "metadata": {},
   "outputs": [],
   "source": [
    "def tokenize(corpus):\n",
    "    tokenizer = tf.keras.preprocessing.text.Tokenizer(\n",
    "        num_words=12000, \n",
    "        filters=' ',\n",
    "        oov_token=\"<unk>\"\n",
    "    )\n",
    "    # corpus를 이용해 tokenizer 내부의 단어장을 완성합니다\n",
    "    tokenizer.fit_on_texts(corpus)\n",
    "    # 준비한 tokenizer를 이용해 corpus를 Tensor로 변환합니다\n",
    "    tensor = tokenizer.texts_to_sequences(corpus)   \n",
    "    tensor = tf.keras.preprocessing.sequence.pad_sequences(tensor, maxlen=15, truncating='post', padding='post')  \n",
    "    \n",
    "    indexes = [] \n",
    "    for i,t in enumerate(tensor):\n",
    "        if 3 not in t:\n",
    "            indexes.append(i)\n",
    "    \n",
    "    tensor = np.delete(tensor, indexes, axis=0) #15토큰보다 긴 열 제거\n",
    "    \n",
    "    return tensor, tokenizer\n",
    "\n",
    "tensor, tokenizer = tokenize(corpus)"
   ]
  },
  {
   "cell_type": "markdown",
   "id": "0b95b2d5",
   "metadata": {},
   "source": [
    "## tf.keras.preprocessing.text.Tokenizer()\n",
    ">```py\n",
    "tf.keras.preprocessing.text.Tokenizer(\n",
    "    num_words=None,\n",
    "    filters='!\"#$%&()*+,-./:;<=>?@[\\\\]^_`{|}~\\t\\n',\n",
    "    lower=True, split=' ', char_level=False, oov_token=None,\n",
    "    document_count=0, **kwargs\n",
    ")\n",
    "\n",
    "- 텐서플로우 [공식문서](https://www.tensorflow.org/api_docs/python/tf/keras/preprocessing/text/Tokenizer)에서 Tokenizer에 대하여 자세히 알 수 있습니다. \n",
    "- 12000단어를 기억할 수 있는 `tokenizer`를 만들고, 12000단어에 포함되지 못한 단어는 `'<unk>'`로 변환\n",
    "- 이미 `preprocess_sentence`를 사용하여 문장을 정제하여 `filters=' '`으로 처리"
   ]
  },
  {
   "cell_type": "markdown",
   "id": "209ef58c",
   "metadata": {},
   "source": [
    "## tf.keras.preprocessing.sequence.pad_sequences()\n",
    ">```py\n",
    "tf.keras.preprocessing.sequence.pad_sequences(\n",
    "    sequences, maxlen=None, dtype='int32', padding='pre',\n",
    "    truncating='pre', value=0.0\n",
    ")\n",
    "\n",
    "- 텐서플로우 [공식문서](https://www.tensorflow.org/api_docs/python/tf/keras/preprocessing/sequence/pad_sequences)에서 pad_sequences에 대하여 자세히 알 수 있습니다. \n",
    "- `padding='post'`를 사용하여 문장 뒤에 패딩을 붙여 길이를 맞추었습니다.\n",
    "- `maxlen=15, truncating='post'`를 인자로 주어 15글자가 넘는 문장은 뒷부분을 잘랐습니다.\n",
    "- pad_sequences의 결과에서 `<end>`인`3`이 없는 행들을 모두 제거하여 토큰의 개수가 15개를 넘어가는 문장을 제외하였습니다."
   ]
  },
  {
   "cell_type": "code",
   "execution_count": 6,
   "id": "b81c105e",
   "metadata": {},
   "outputs": [
    {
     "name": "stdout",
     "output_type": "stream",
     "text": [
      "1 : <unk>\n",
      "2 : <start>\n",
      "3 : <end>\n",
      "4 : ,\n",
      "5 : i\n",
      "6 : the\n",
      "7 : you\n",
      "8 : and\n",
      "9 : a\n",
      "10 : to\n"
     ]
    }
   ],
   "source": [
    "for idx in tokenizer.index_word:\n",
    "    print(idx, \":\", tokenizer.index_word[idx])\n",
    "\n",
    "    if idx >= 10: break"
   ]
  },
  {
   "cell_type": "markdown",
   "id": "58a12dea",
   "metadata": {},
   "source": [
    "- 위 같은 형태로 `tokenizer`에 단어들이 저장되어 있는 것을 확인할 수 있습니다."
   ]
  },
  {
   "cell_type": "code",
   "execution_count": 7,
   "id": "71e23d39",
   "metadata": {},
   "outputs": [
    {
     "name": "stdout",
     "output_type": "stream",
     "text": [
      "[  2  65 280  27  99 528  19  85 778  93   3   0   0   0]\n",
      "[ 65 280  27  99 528  19  85 778  93   3   0   0   0   0]\n"
     ]
    }
   ],
   "source": [
    "# tensor에서 마지막 토큰을 잘라내서 소스 문장을 생성합니다\n",
    "# 마지막 토큰은 <end>가 아니라 <pad>일 가능성이 높습니다.\n",
    "src_input = tensor[:, :-1]  \n",
    "# tensor에서 <start>를 잘라내서 타겟 문장을 생성합니다.\n",
    "tgt_input = tensor[:, 1:]    \n",
    "\n",
    "print(src_input[0])\n",
    "print(tgt_input[0])"
   ]
  },
  {
   "cell_type": "code",
   "execution_count": 8,
   "id": "ce9a02a1",
   "metadata": {},
   "outputs": [
    {
     "name": "stdout",
     "output_type": "stream",
     "text": [
      "enc_train: (124810, 14)\n",
      "dec_train: (124810, 14)\n",
      "enc_val: (31203, 14)\n",
      "dec_val: (31203, 14)\n"
     ]
    }
   ],
   "source": [
    "#트레인데이터와 테스트데이터를 분리해 주었습니다.\n",
    "enc_train, enc_val, dec_train, dec_val = train_test_split(src_input, \n",
    "                                                    tgt_input, \n",
    "                                                    test_size=0.2, \n",
    "                                                    random_state=7)\n",
    "\n",
    "print(\"enc_train:\", enc_train.shape)\n",
    "print(\"dec_train:\", dec_train.shape)\n",
    "print(\"enc_val:\", enc_val.shape)\n",
    "print(\"dec_val:\", dec_val.shape)"
   ]
  },
  {
   "cell_type": "code",
   "execution_count": 9,
   "id": "80ce5406",
   "metadata": {},
   "outputs": [
    {
     "name": "stdout",
     "output_type": "stream",
     "text": [
      "<BatchDataset shapes: ((256, 14), (256, 14)), types: (tf.int32, tf.int32)>\n"
     ]
    }
   ],
   "source": [
    "#학습을 위한 트레인데이터셋 생성\n",
    "BUFFER_SIZE = len(enc_train)\n",
    "BATCH_SIZE = 256\n",
    "\n",
    "dataset = tf.data.Dataset.from_tensor_slices((enc_train,dec_train))\n",
    "dataset = dataset.shuffle(BUFFER_SIZE)\n",
    "dataset = dataset.batch(BATCH_SIZE, drop_remainder=True)\n",
    "\n",
    "print(dataset)"
   ]
  },
  {
   "cell_type": "markdown",
   "id": "2d63b483",
   "metadata": {},
   "source": [
    "- 준비한 데이터로부터 데이터셋을 만듭니다\n",
    "- 텐서플로우 [공식문서](https://www.tensorflow.org/api_docs/python/tf/data/Dataset)에서 Dataset에 대하여 자세히 알 수 있습니다.\n",
    "\n",
    "___\n",
    "# 모델 생성"
   ]
  },
  {
   "cell_type": "code",
   "execution_count": 10,
   "id": "53c5d8a5",
   "metadata": {},
   "outputs": [],
   "source": [
    "class TextGenerator(tf.keras.Model):\n",
    "    def __init__(self, vocab_size, embedding_size, hidden_size):\n",
    "        super().__init__()\n",
    "        \n",
    "        self.embedding = tf.keras.layers.Embedding(vocab_size, embedding_size)\n",
    "        self.rnn_1 = tf.keras.layers.LSTM(hidden_size, return_sequences=True)\n",
    "        self.rnn_2 = tf.keras.layers.LSTM(hidden_size, return_sequences=True)\n",
    "        self.linear = tf.keras.layers.Dense(vocab_size)\n",
    "        \n",
    "    def call(self, x):\n",
    "        out = self.embedding(x)\n",
    "        out = self.rnn_1(out)\n",
    "        out = self.rnn_2(out)\n",
    "        out = self.linear(out)\n",
    "        \n",
    "        return out\n",
    "    \n",
    " # tokenizer가 구축한 단어사전 내 12000개와, 여기 포함되지 않은 0:<pad>를 포함하여 12001개\n",
    "VOCAB_SIZE = tokenizer.num_words + 1   \n",
    "embedding_size = 1000\n",
    "hidden_size = 1500\n",
    "model = TextGenerator(VOCAB_SIZE, embedding_size , hidden_size)"
   ]
  },
  {
   "cell_type": "markdown",
   "id": "30a15c2a",
   "metadata": {},
   "source": [
    "---\n",
    "# 모델 구조 확인"
   ]
  },
  {
   "cell_type": "code",
   "execution_count": 11,
   "id": "0552e35d",
   "metadata": {},
   "outputs": [
    {
     "name": "stdout",
     "output_type": "stream",
     "text": [
      "Model: \"text_generator\"\n",
      "_________________________________________________________________\n",
      "Layer (type)                 Output Shape              Param #   \n",
      "=================================================================\n",
      "embedding (Embedding)        multiple                  12001000  \n",
      "_________________________________________________________________\n",
      "lstm (LSTM)                  multiple                  15006000  \n",
      "_________________________________________________________________\n",
      "lstm_1 (LSTM)                multiple                  18006000  \n",
      "_________________________________________________________________\n",
      "dense (Dense)                multiple                  18013501  \n",
      "=================================================================\n",
      "Total params: 63,026,501\n",
      "Trainable params: 63,026,501\n",
      "Non-trainable params: 0\n",
      "_________________________________________________________________\n"
     ]
    }
   ],
   "source": [
    "for src_sample, tgt_sample in dataset.take(1): break\n",
    "\n",
    "model(src_sample) # summary확인을 위해 한 배치만 불러온 데이터를 모델에 넣습니다.\n",
    "model.summary()"
   ]
  },
  {
   "cell_type": "markdown",
   "id": "8559f63b",
   "metadata": {},
   "source": [
    "___\n",
    "# 모델 학습"
   ]
  },
  {
   "cell_type": "code",
   "execution_count": 12,
   "id": "1429dbba",
   "metadata": {},
   "outputs": [
    {
     "name": "stdout",
     "output_type": "stream",
     "text": [
      "Epoch 1/10\n",
      "487/487 [==============================] - 170s 339ms/step - loss: 3.2903\n",
      "Epoch 2/10\n",
      "487/487 [==============================] - 176s 362ms/step - loss: 2.7850\n",
      "Epoch 3/10\n",
      "487/487 [==============================] - 177s 363ms/step - loss: 2.5299\n",
      "Epoch 4/10\n",
      "487/487 [==============================] - 177s 363ms/step - loss: 2.2939\n",
      "Epoch 5/10\n",
      "487/487 [==============================] - 177s 364ms/step - loss: 2.0661\n",
      "Epoch 6/10\n",
      "487/487 [==============================] - 178s 364ms/step - loss: 1.8494\n",
      "Epoch 7/10\n",
      "487/487 [==============================] - 178s 364ms/step - loss: 1.6472\n",
      "Epoch 8/10\n",
      "487/487 [==============================] - 178s 364ms/step - loss: 1.4656\n",
      "Epoch 9/10\n",
      "487/487 [==============================] - 178s 364ms/step - loss: 1.3104\n",
      "Epoch 10/10\n",
      "487/487 [==============================] - 178s 365ms/step - loss: 1.1851\n"
     ]
    },
    {
     "data": {
      "text/plain": [
       "<keras.callbacks.History at 0x7fea012e2880>"
      ]
     },
     "execution_count": 12,
     "metadata": {},
     "output_type": "execute_result"
    }
   ],
   "source": [
    "optimizer = tf.keras.optimizers.Adam()\n",
    "loss = tf.keras.losses.SparseCategoricalCrossentropy(\n",
    "    from_logits=True, reduction='none')\n",
    "\n",
    "model.compile(loss=loss, optimizer=optimizer)\n",
    "model.fit(dataset, epochs=10)"
   ]
  },
  {
   "cell_type": "markdown",
   "id": "542f650b",
   "metadata": {},
   "source": [
    "___\n",
    "# 학습 결과"
   ]
  },
  {
   "cell_type": "code",
   "execution_count": 13,
   "id": "147e0d49",
   "metadata": {},
   "outputs": [
    {
     "name": "stdout",
     "output_type": "stream",
     "text": [
      "3901/3901 [==============================] - 103s 26ms/step - loss: 1.0567\n",
      "976/976 [==============================] - 26s 27ms/step - loss: 2.1559\n",
      "train_loss : 1.0566670894622803\n",
      "val_loss : 2.1559181213378906\n"
     ]
    }
   ],
   "source": [
    "train_loss = model.evaluate(enc_train, dec_train, verbose=1)\n",
    "val_loss = model.evaluate(enc_val, dec_val, verbose=1)\n",
    " \n",
    "print('train_loss : ' + str(train_loss))\n",
    "print('val_loss : ' + str(val_loss))"
   ]
  },
  {
   "cell_type": "markdown",
   "id": "e6d857ac",
   "metadata": {},
   "source": [
    "- `val_loss`값이 2.2이하인것을 확인할 수 있습니다.\n",
    "\n",
    "___\n",
    "# 모델을 사용하여 문장 만들기"
   ]
  },
  {
   "cell_type": "code",
   "execution_count": 14,
   "id": "723c1e15",
   "metadata": {},
   "outputs": [],
   "source": [
    "def generate_text(model, tokenizer, init_sentence=\"<start>\", max_len=20):\n",
    "    # 테스트를 위해서 입력받은 init_sentence도 텐서로 변환합니다\n",
    "    test_input = tokenizer.texts_to_sequences([init_sentence])\n",
    "    test_tensor = tf.convert_to_tensor(test_input, dtype=tf.int64)\n",
    "    end_token = tokenizer.word_index[\"<end>\"]\n",
    "\n",
    "    while True:\n",
    "        # 1\n",
    "        predict = model(test_tensor) \n",
    "        # 2\n",
    "        predict_word = tf.argmax(tf.nn.softmax(predict, axis=-1), axis=-1)[:, -1] \n",
    "        # 3 \n",
    "        test_tensor = tf.concat([test_tensor, tf.expand_dims(predict_word, axis=0)], axis=-1)\n",
    "        # 4\n",
    "        if predict_word.numpy()[0] == end_token: break\n",
    "        if test_tensor.shape[1] >= max_len: break\n",
    "\n",
    "    generated = \"\"\n",
    "    # tokenizer를 이용해 word index를 단어로 하나씩 변환합니다 \n",
    "    for word_index in test_tensor[0].numpy():\n",
    "        generated += tokenizer.index_word[word_index] + \" \"\n",
    "\n",
    "    return generated"
   ]
  },
  {
   "cell_type": "markdown",
   "id": "552b6c50",
   "metadata": {},
   "source": [
    "   ## generate_text()\n",
    "   단어를 하나씩 예측해 문장을 만들어 줍니다\n",
    "   1. 입력받은 문장의 텐서를 입력합니다\n",
    "   2. 예측된 값 중 가장 높은 확률인 word index를 뽑아냅니다\n",
    "   3. 2에서 예측된 word index를 문장 뒤에 붙입니다\n",
    "   4. 모델이 <end>를 예측했거나, max_len에 도달했다면 문장 생성을 마칩니다"
   ]
  },
  {
   "cell_type": "code",
   "execution_count": 15,
   "id": "dbaa8cdd",
   "metadata": {},
   "outputs": [
    {
     "data": {
      "text/plain": [
       "'<start> i live for the funk ill die for the funk <end> '"
      ]
     },
     "execution_count": 15,
     "metadata": {},
     "output_type": "execute_result"
    }
   ],
   "source": [
    "generate_text(model, tokenizer, init_sentence=\"<start> i live\", max_len=20)"
   ]
  },
  {
   "cell_type": "markdown",
   "id": "56344948",
   "metadata": {},
   "source": [
    "- 학습된 모델을 통하여 새로 생성된 문장을 확인할 수 있습니다."
   ]
  },
  {
   "cell_type": "markdown",
   "id": "7f096601",
   "metadata": {},
   "source": [
    "___\n",
    "# 회고\n",
    "ai작사가를 만들어 rnn신경망에 대하여 알아보았고 `re`모듈과 `tokenizer` 등을 사용하여 자연어를 데이터셋으로 사용할 수 있게 전처리하는 과정을 실습해보았습니다. 하이퍼 파라미터를 수정해보며 모델을 학습시켜보았는데, 생각보다 시간이 많이 걸렸습니다. 적절한 하이퍼 파라미터값을 빠르게 구하기 위해서 공부를 더 해야겠다는 생각이 들었습니다."
   ]
  }
 ],
 "metadata": {
  "kernelspec": {
   "display_name": "Python 3 (ipykernel)",
   "language": "python",
   "name": "python3"
  },
  "language_info": {
   "codemirror_mode": {
    "name": "ipython",
    "version": 3
   },
   "file_extension": ".py",
   "mimetype": "text/x-python",
   "name": "python",
   "nbconvert_exporter": "python",
   "pygments_lexer": "ipython3",
   "version": "3.9.7"
  }
 },
 "nbformat": 4,
 "nbformat_minor": 5
}
