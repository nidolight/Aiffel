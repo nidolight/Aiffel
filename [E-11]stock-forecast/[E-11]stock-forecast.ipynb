{
 "cells": [
  {
   "cell_type": "code",
   "execution_count": 1,
   "id": "f20e7f20",
   "metadata": {},
   "outputs": [],
   "source": [
    "import numpy as np\n",
    "import pandas as pd\n",
    "import matplotlib.pyplot as plt\n",
    "import os\n",
    "import warnings\n",
    "warnings.filterwarnings(action='ignore')"
   ]
  },
  {
   "cell_type": "markdown",
   "id": "de439513",
   "metadata": {},
   "source": [
    "## STEP 1 : 시계열 데이터 준비\n",
    "\n",
    "- 칼럼 종류: Date, Open, High, Low, Close, Adj Close, Volume\n",
    "- 날짜별로 시작가(Open), 최고가(High), 최저가(Low), 종가(Close), 수정종가(Adj Close), 거래량(Volume)이 저장되어 있는 것을 확인할 수 있습니다.\n",
    "- 우리는 종가(Close)만 사용하겠습니다. (주식 시장은 정해진 시간 동안만 거래가 가능합니다. 종가란 하루의 장이 마감하였을 때의 가격입니다.)"
   ]
  },
  {
   "cell_type": "code",
   "execution_count": 2,
   "id": "00941d2f",
   "metadata": {},
   "outputs": [
    {
     "data": {
      "text/plain": [
       "Date\n",
       "2020-05-18    48800.0\n",
       "2020-05-19    50300.0\n",
       "2020-05-20    50000.0\n",
       "2020-05-21    49950.0\n",
       "2020-05-22    48750.0\n",
       "Name: Close, dtype: float64"
      ]
     },
     "execution_count": 2,
     "metadata": {},
     "output_type": "execute_result"
    }
   ],
   "source": [
    "dataset_filepath = os.getenv('HOME') + '/aiffel/stock_prediction/data/005930.KS.csv'\n",
    "df = pd.read_csv(dataset_filepath, index_col='Date', parse_dates=True)\n",
    "ts = df['Close']\n",
    "\n",
    "ts.head()"
   ]
  },
  {
   "cell_type": "markdown",
   "id": "e28e5c6d",
   "metadata": {},
   "source": [
    "## STEP 2 : 각종 전처리 수행\n",
    "\n",
    "- 결측치 처리"
   ]
  },
  {
   "cell_type": "code",
   "execution_count": 3,
   "id": "c6802a86",
   "metadata": {},
   "outputs": [
    {
     "data": {
      "text/plain": [
       "Series([], Name: Close, dtype: float64)"
      ]
     },
     "execution_count": 3,
     "metadata": {},
     "output_type": "execute_result"
    }
   ],
   "source": [
    "ts = ts.interpolate(method='time')\n",
    "ts[ts.isna()]  # Time Series에서 결측치가 있는 부분만 Series로 출력합니다. "
   ]
  },
  {
   "cell_type": "markdown",
   "id": "66700c3c",
   "metadata": {},
   "source": [
    "- 로그 변환"
   ]
  },
  {
   "cell_type": "code",
   "execution_count": 4,
   "id": "a8560fa6",
   "metadata": {},
   "outputs": [],
   "source": [
    "ts_log = np.log(ts)"
   ]
  },
  {
   "cell_type": "markdown",
   "id": "a84824d9",
   "metadata": {},
   "source": [
    "## STEP 3 : 시계열 안정성 분석\n",
    "\n",
    "- 정성적 그래프 분석"
   ]
  },
  {
   "cell_type": "code",
   "execution_count": 5,
   "id": "db2e2b4f",
   "metadata": {},
   "outputs": [
    {
     "ename": "NameError",
     "evalue": "name 'plot_rolling_statistics' is not defined",
     "output_type": "error",
     "traceback": [
      "\u001b[0;31m---------------------------------------------------------------------------\u001b[0m",
      "\u001b[0;31mNameError\u001b[0m                                 Traceback (most recent call last)",
      "\u001b[0;32m/tmp/ipykernel_31/485801692.py\u001b[0m in \u001b[0;36m<module>\u001b[0;34m\u001b[0m\n\u001b[0;32m----> 1\u001b[0;31m \u001b[0mplot_rolling_statistics\u001b[0m\u001b[0;34m(\u001b[0m\u001b[0mts_log\u001b[0m\u001b[0;34m,\u001b[0m \u001b[0mwindow\u001b[0m\u001b[0;34m=\u001b[0m\u001b[0;36m12\u001b[0m\u001b[0;34m)\u001b[0m\u001b[0;34m\u001b[0m\u001b[0;34m\u001b[0m\u001b[0m\n\u001b[0m",
      "\u001b[0;31mNameError\u001b[0m: name 'plot_rolling_statistics' is not defined"
     ]
    }
   ],
   "source": [
    "plot_rolling_statistics(ts_log, window=12)"
   ]
  },
  {
   "cell_type": "markdown",
   "id": "1cbf4617",
   "metadata": {},
   "source": [
    "- 정량적 Augmented Dicky-Fuller Test"
   ]
  },
  {
   "cell_type": "code",
   "execution_count": null,
   "id": "bbcb20e9",
   "metadata": {},
   "outputs": [],
   "source": [
    "augmented_dickey_fuller_test(ts_log)"
   ]
  },
  {
   "cell_type": "markdown",
   "id": "92a88561",
   "metadata": {},
   "source": [
    "- 시계열 분해 (Time Series Decomposition)"
   ]
  },
  {
   "cell_type": "code",
   "execution_count": null,
   "id": "e8825544",
   "metadata": {},
   "outputs": [],
   "source": [
    "from statsmodels.tsa.seasonal import seasonal_decompose\n",
    "decomposition = seasonal_decompose(ts_log, model='multiplicative', period = 30) \n",
    "\n",
    "trend = decomposition.trend\n",
    "seasonal = decomposition.seasonal\n",
    "residual = decomposition.resid\n",
    "\n",
    "plt.subplot(411)\n",
    "plt.plot(ts_log, label='Original')\n",
    "plt.legend(loc='best')\n",
    "plt.subplot(412)\n",
    "plt.plot(trend, label='Trend')\n",
    "plt.legend(loc='best')\n",
    "plt.subplot(413)\n",
    "plt.plot(seasonal,label='Seasonality')\n",
    "plt.legend(loc='best')\n",
    "plt.subplot(414)\n",
    "plt.plot(residual, label='Residuals')\n",
    "plt.legend(loc='best')\n",
    "plt.tight_layout()"
   ]
  },
  {
   "cell_type": "markdown",
   "id": "2bb5011e",
   "metadata": {},
   "source": [
    "- Residual 안정성 확인"
   ]
  },
  {
   "cell_type": "code",
   "execution_count": null,
   "id": "2de83b40",
   "metadata": {},
   "outputs": [],
   "source": [
    "residual.dropna(inplace=True)\n",
    "augmented_dickey_fuller_test(residual)"
   ]
  },
  {
   "cell_type": "markdown",
   "id": "f8ba0322",
   "metadata": {},
   "source": [
    "## STEP 4 : 학습, 테스트 데이터셋 생성\n",
    "\n",
    "- 학습, 테스트 데이터셋 분리"
   ]
  },
  {
   "cell_type": "code",
   "execution_count": null,
   "id": "cfe00da1",
   "metadata": {},
   "outputs": [],
   "source": [
    "train_data, test_data = ts_log[:int(len(ts_log)*0.9)], ts_log[int(len(ts_log)*0.9):]\n",
    "plt.figure(figsize=(10,6))\n",
    "plt.grid(True)\n",
    "plt.plot(ts_log, c='r', label='training dataset')  # train_data를 적용하면 그래프가 끊어져 보이므로 자연스러운 연출을 위해 ts_log를 선택\n",
    "plt.plot(test_data, c='b', label='test dataset')\n",
    "plt.legend()"
   ]
  },
  {
   "cell_type": "markdown",
   "id": "37f0bd09",
   "metadata": {},
   "source": [
    "## STEP 5 : 적정 ARIMA 모수 찾기\n",
    "\n",
    "- ACF, PACF 그려보기 -> p,q 구하기"
   ]
  },
  {
   "cell_type": "code",
   "execution_count": null,
   "id": "35856050",
   "metadata": {},
   "outputs": [],
   "source": [
    "from statsmodels.graphics.tsaplots import plot_acf, plot_pacf\n",
    "\n",
    "plot_acf(ts_log)   # ACF : Autocorrelation 그래프 그리기\n",
    "plot_pacf(ts_log)  # PACF : Partial Autocorrelation 그래프 그리기\n",
    "plt.show()"
   ]
  },
  {
   "cell_type": "markdown",
   "id": "86716db1",
   "metadata": {},
   "source": [
    "- 차분 안정성 확인 -> d 구하기"
   ]
  },
  {
   "cell_type": "code",
   "execution_count": null,
   "id": "8fd0566a",
   "metadata": {},
   "outputs": [],
   "source": [
    "# 1차 차분 구하기\n",
    "diff_1 = ts_log.diff(periods=1).iloc[1:]\n",
    "diff_1.plot(title='Difference 1st')\n",
    "\n",
    "augmented_dickey_fuller_test(diff_1)\n",
    "\n",
    "# 혹시 필요한 경우 2차 차분 구하기\n",
    "diff_2 = diff_1.diff(periods=1).iloc[1:]\n",
    "diff_2.plot(title='Difference 2nd')\n",
    "\n",
    "augmented_dickey_fuller_test(diff_2)"
   ]
  },
  {
   "cell_type": "markdown",
   "id": "419de808",
   "metadata": {},
   "source": [
    "## STEP 6 : ARIMA 모델 훈련과 테스트\n",
    "\n",
    "- ARIMA 모델 빌드와 훈련"
   ]
  },
  {
   "cell_type": "code",
   "execution_count": null,
   "id": "507482e6",
   "metadata": {},
   "outputs": [],
   "source": [
    "from statsmodels.tsa.arima.model import ARIMA\n",
    "# Build Model\n",
    "model = ARIMA(train_data, order=(2, 0, 1))  \n",
    "fitted_m = model.fit() \n",
    "\n",
    "print(fitted_m.summary())"
   ]
  },
  {
   "cell_type": "markdown",
   "id": "0c2813f7",
   "metadata": {},
   "source": [
    "- 모델 테스트 및 플로팅"
   ]
  },
  {
   "cell_type": "code",
   "execution_count": null,
   "id": "d9babf81",
   "metadata": {},
   "outputs": [],
   "source": [
    "\n",
    "# Forecast : 결과가 fc에 담깁니다. \n",
    "fc = fitted_m.forecast(len(test_data), alpha=0.05)  # 95% conf\n",
    "fc = np.array(fc)\n",
    "# Make as pandas series\n",
    "fc_series = pd.Series(fc, index=test_data.index)   # 예측결과\n",
    "\n",
    "# Plot\n",
    "plt.figure(figsize=(10,5), dpi=100)\n",
    "plt.plot(train_data, label='training')\n",
    "plt.plot(test_data, c='b', label='actual price')\n",
    "plt.plot(fc_series, c='r',label='predicted price')\n",
    "plt.legend()\n",
    "plt.show()\n"
   ]
  },
  {
   "cell_type": "markdown",
   "id": "c0744178",
   "metadata": {},
   "source": [
    "- 최종 예측 모델 정확도 측정(MAPE)"
   ]
  },
  {
   "cell_type": "code",
   "execution_count": null,
   "id": "6a662601",
   "metadata": {},
   "outputs": [],
   "source": [
    "from sklearn.metrics import mean_squared_error, mean_absolute_error\n",
    "import math\n",
    "\n",
    "mse = mean_squared_error(np.exp(test_data), np.exp(fc))\n",
    "print('MSE: ', mse)\n",
    "\n",
    "mae = mean_absolute_error(np.exp(test_data), np.exp(fc))\n",
    "print('MAE: ', mae)\n",
    "\n",
    "rmse = math.sqrt(mean_squared_error(np.exp(test_data), np.exp(fc)))\n",
    "print('RMSE: ', rmse)\n",
    "\n",
    "mape = np.mean(np.abs(np.exp(fc) - np.exp(test_data))/np.abs(np.exp(test_data)))\n",
    "print('MAPE: {:.2f}%'.format(mape*100))\n"
   ]
  },
  {
   "cell_type": "markdown",
   "id": "733b5e5e",
   "metadata": {},
   "source": [
    "## STEP 7 : 다른 주식 종목 예측해 보기\n",
    "\n",
    "관심 종목을 골라 위 STEP 1~6의 과정을 반복해 보기"
   ]
  }
 ],
 "metadata": {
  "kernelspec": {
   "display_name": "Python 3 (ipykernel)",
   "language": "python",
   "name": "python3"
  },
  "language_info": {
   "codemirror_mode": {
    "name": "ipython",
    "version": 3
   },
   "file_extension": ".py",
   "mimetype": "text/x-python",
   "name": "python",
   "nbconvert_exporter": "python",
   "pygments_lexer": "ipython3",
   "version": "3.9.7"
  }
 },
 "nbformat": 4,
 "nbformat_minor": 5
}
