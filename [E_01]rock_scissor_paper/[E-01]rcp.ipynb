{
 "cells": [
  {
   "cell_type": "code",
   "execution_count": 1,
   "id": "08650434",
   "metadata": {},
   "outputs": [],
   "source": [
    "import matplotlib.pyplot as plt\n",
    "import glob\n",
    "import os\n",
    "import numpy as np\n",
    "import tensorflow as tf\n",
    "from tensorflow import keras\n",
    "from PIL import Image"
   ]
  },
  {
   "cell_type": "code",
   "execution_count": 2,
   "id": "6913bacc",
   "metadata": {},
   "outputs": [
    {
     "name": "stdout",
     "output_type": "stream",
     "text": [
      "100  images to be resized.\n",
      "100  images resized.\n",
      "100  images to be resized.\n",
      "100  images resized.\n",
      "100  images to be resized.\n",
      "100  images resized.\n",
      "100  images to be resized.\n",
      "100  images resized.\n",
      "100  images to be resized.\n",
      "100  images resized.\n",
      "100  images to be resized.\n",
      "100  images resized.\n"
     ]
    }
   ],
   "source": [
    "def resize_images(img_path):\n",
    "\timages=glob.glob(img_path + \"/*.jpg\")  \n",
    "    \n",
    "\tprint(len(images), \" images to be resized.\")\n",
    "\n",
    "    # 파일마다 모두 28x28 사이즈로 바꾸어 저장\n",
    "\ttarget_size=(28,28)\n",
    "\tfor img in images:\n",
    "\t\told_img=Image.open(img)\n",
    "\t\tnew_img=old_img.resize(target_size,Image.ANTIALIAS)\n",
    "\t\tnew_img.save(img, \"JPEG\")\n",
    "    \n",
    "\tprint(len(images), \" images resized.\")\n",
    "\n",
    "#가위,바위,보 이미지 resize\n",
    "image_dir_path = \"./scissor\"\n",
    "resize_images(image_dir_path)\n",
    "\n",
    "image_dir_path = \"./rock\"\n",
    "resize_images(image_dir_path)\n",
    "\n",
    "image_dir_path = \"./paper\"\n",
    "resize_images(image_dir_path)\n",
    "\n",
    "image_dir_path = \"./test/scissor\"\n",
    "resize_images(image_dir_path)\n",
    "\n",
    "image_dir_path = \"./test/rock\"\n",
    "resize_images(image_dir_path)\n",
    "\n",
    "image_dir_path = \"./test/paper\"\n",
    "resize_images(image_dir_path)"
   ]
  },
  {
   "cell_type": "code",
   "execution_count": 3,
   "id": "d2e846ec",
   "metadata": {},
   "outputs": [
    {
     "name": "stdout",
     "output_type": "stream",
     "text": [
      "학습데이터(x_train)의 이미지 개수는 600 입니다.\n"
     ]
    }
   ],
   "source": [
    "def load_data(img_path_, number_of_data=600):\n",
    "    img_size=28\n",
    "    color=3\n",
    "    \n",
    "    imgs=np.zeros(number_of_data*img_size*img_size*color,dtype=np.int32).reshape(number_of_data,img_size,img_size,color)\n",
    "    labels=np.zeros(number_of_data,dtype=np.int32)\n",
    "\n",
    "    idx=0\n",
    "    for img_path in img_path_:\n",
    "        for file in glob.iglob(img_path+'/scissor/*.jpg'):\n",
    "            img = np.array(Image.open(file),dtype=np.int32)\n",
    "            imgs[idx,:,:,:]=img    # 데이터 영역에 이미지 행렬을 복사\n",
    "            labels[idx]=0   # 가위 : 0\n",
    "            idx=idx+1\n",
    "\n",
    "        for file in glob.iglob(img_path+'/rock/*.jpg'):\n",
    "            img = np.array(Image.open(file),dtype=np.int32)\n",
    "            imgs[idx,:,:,:]=img    \n",
    "            labels[idx]=1   # 바위 : 1\n",
    "            idx=idx+1  \n",
    "\n",
    "        for file in glob.iglob(img_path+'/paper/*.jpg'):\n",
    "            img = np.array(Image.open(file),dtype=np.int32)\n",
    "            imgs[idx,:,:,:]=img   \n",
    "            labels[idx]=2   # 보 : 2\n",
    "            idx=idx+1\n",
    "        \n",
    "    print(\"학습데이터(x_train)의 이미지 개수는\", idx,\"입니다.\")\n",
    "    return imgs, labels\n",
    "\n",
    "image_dir_path = \"./test\" \n",
    "image_dir_path2 = \".\"\n",
    "image_path = [image_dir_path,image_dir_path2]##직접 찍은 데이터와 기존데이터를 합쳐 사용\n",
    "\n",
    "(x_train, y_train)=load_data(image_path)\n",
    "x_train_norm = x_train/255.0   # 입력은 0~1 사이의 값으로 정규화"
   ]
  },
  {
   "cell_type": "markdown",
   "id": "6a200582",
   "metadata": {},
   "source": [
    ">구글의 teachable machine을 사용하여 직접 찍은 데이터를 [E_01]rock_scissor_paper 디렉토리 안에 저장하였습니다.\n",
    " lms노드의 예제 데이터도 다운로드받아 test디렉토리 내에 저장하였습니다."
   ]
  },
  {
   "cell_type": "code",
   "execution_count": 4,
   "id": "12551fe2",
   "metadata": {},
   "outputs": [
    {
     "name": "stdout",
     "output_type": "stream",
     "text": [
      "라벨:  0\n"
     ]
    },
    {
     "data": {
      "image/png": "[encoded data removed]",
      "text/plain": [
       "<Figure size 432x288 with 1 Axes>"
      ]
     },
     "metadata": {
      "needs_background": "light"
     },
     "output_type": "display_data"
    }
   ],
   "source": [
    "plt.imshow(x_train[333])\n",
    "print('라벨: ', y_train[333])"
   ]
  },
  {
   "cell_type": "code",
   "execution_count": 5,
   "id": "413739b3",
   "metadata": {},
   "outputs": [
    {
     "name": "stdout",
     "output_type": "stream",
     "text": [
      "x_train shape: (600, 28, 28, 3)\n",
      "y_train shape: (600,)\n"
     ]
    }
   ],
   "source": [
    "print(\"x_train shape: {}\".format(x_train_norm.shape))\n",
    "print(\"y_train shape: {}\".format(y_train.shape))"
   ]
  },
  {
   "cell_type": "code",
   "execution_count": 6,
   "id": "87fce7cc",
   "metadata": {},
   "outputs": [
    {
     "name": "stdout",
     "output_type": "stream",
     "text": [
      "Model: \"sequential\"\n",
      "_________________________________________________________________\n",
      "Layer (type)                 Output Shape              Param #   \n",
      "=================================================================\n",
      "conv2d (Conv2D)              (None, 26, 26, 256)       7168      \n",
      "_________________________________________________________________\n",
      "max_pooling2d (MaxPooling2D) (None, 13, 13, 256)       0         \n",
      "_________________________________________________________________\n",
      "conv2d_1 (Conv2D)            (None, 11, 11, 128)       295040    \n",
      "_________________________________________________________________\n",
      "max_pooling2d_1 (MaxPooling2 (None, 5, 5, 128)         0         \n",
      "_________________________________________________________________\n",
      "flatten (Flatten)            (None, 3200)              0         \n",
      "_________________________________________________________________\n",
      "dense (Dense)                (None, 64)                204864    \n",
      "_________________________________________________________________\n",
      "dense_1 (Dense)              (None, 3)                 195       \n",
      "=================================================================\n",
      "Total params: 507,267\n",
      "Trainable params: 507,267\n",
      "Non-trainable params: 0\n",
      "_________________________________________________________________\n"
     ]
    }
   ],
   "source": [
    "n_channel_1=256 #파라메터값을 적절히 조정\n",
    "n_channel_2=128\n",
    "n_dense=64\n",
    "n_train_epoch=20\n",
    "\n",
    "model=keras.models.Sequential()\n",
    "model.add(keras.layers.Conv2D(n_channel_1, (3,3), activation='relu', input_shape=(28,28,3)))\n",
    "model.add(keras.layers.MaxPooling2D(2,2))\n",
    "model.add(keras.layers.Conv2D(n_channel_2, (3,3), activation='relu'))\n",
    "model.add(keras.layers.MaxPooling2D(2,2))\n",
    "model.add(keras.layers.Flatten())\n",
    "model.add(keras.layers.Dense(n_dense, activation='relu'))\n",
    "model.add(keras.layers.Dense(3, activation='softmax'))\n",
    "\n",
    "model.summary()"
   ]
  },
  {
   "cell_type": "code",
   "execution_count": 7,
   "id": "987e3275",
   "metadata": {},
   "outputs": [
    {
     "name": "stdout",
     "output_type": "stream",
     "text": [
      "Epoch 1/20\n",
      "19/19 [==============================] - 3s 13ms/step - loss: 1.2340 - accuracy: 0.2950\n",
      "Epoch 2/20\n",
      "19/19 [==============================] - 0s 5ms/step - loss: 0.9696 - accuracy: 0.4983\n",
      "Epoch 3/20\n",
      "19/19 [==============================] - 0s 5ms/step - loss: 0.7383 - accuracy: 0.6417\n",
      "Epoch 4/20\n",
      "19/19 [==============================] - 0s 4ms/step - loss: 0.5922 - accuracy: 0.7133\n",
      "Epoch 5/20\n",
      "19/19 [==============================] - 0s 4ms/step - loss: 0.5168 - accuracy: 0.7617\n",
      "Epoch 6/20\n",
      "19/19 [==============================] - 0s 5ms/step - loss: 0.4527 - accuracy: 0.8000\n",
      "Epoch 7/20\n",
      "19/19 [==============================] - 0s 4ms/step - loss: 0.3753 - accuracy: 0.8450\n",
      "Epoch 8/20\n",
      "19/19 [==============================] - 0s 4ms/step - loss: 0.3014 - accuracy: 0.8983\n",
      "Epoch 9/20\n",
      "19/19 [==============================] - 0s 4ms/step - loss: 0.3018 - accuracy: 0.8817\n",
      "Epoch 10/20\n",
      "19/19 [==============================] - 0s 4ms/step - loss: 0.2259 - accuracy: 0.9133\n",
      "Epoch 11/20\n",
      "19/19 [==============================] - 0s 4ms/step - loss: 0.1481 - accuracy: 0.9550\n",
      "Epoch 12/20\n",
      "19/19 [==============================] - 0s 4ms/step - loss: 0.2039 - accuracy: 0.9183\n",
      "Epoch 13/20\n",
      "19/19 [==============================] - 0s 4ms/step - loss: 0.1073 - accuracy: 0.9683\n",
      "Epoch 14/20\n",
      "19/19 [==============================] - 0s 4ms/step - loss: 0.1052 - accuracy: 0.9600\n",
      "Epoch 15/20\n",
      "19/19 [==============================] - 0s 4ms/step - loss: 0.0600 - accuracy: 0.9867\n",
      "Epoch 16/20\n",
      "19/19 [==============================] - 0s 4ms/step - loss: 0.0490 - accuracy: 0.9850\n",
      "Epoch 17/20\n",
      "19/19 [==============================] - 0s 4ms/step - loss: 0.0886 - accuracy: 0.9717\n",
      "Epoch 18/20\n",
      "19/19 [==============================] - 0s 5ms/step - loss: 0.0146 - accuracy: 1.0000\n",
      "Epoch 19/20\n",
      "19/19 [==============================] - 0s 4ms/step - loss: 0.0178 - accuracy: 0.9967\n",
      "Epoch 20/20\n",
      "19/19 [==============================] - 0s 4ms/step - loss: 0.0212 - accuracy: 0.9967\n"
     ]
    },
    {
     "data": {
      "text/plain": [
       "<keras.callbacks.History at 0x7f16ec0cffa0>"
      ]
     },
     "execution_count": 7,
     "metadata": {},
     "output_type": "execute_result"
    }
   ],
   "source": [
    "model.compile(optimizer='rmsProp',\n",
    "             loss='sparse_categorical_crossentropy',\n",
    "             metrics=['accuracy'])\n",
    "\n",
    "# 모델 훈련\n",
    "model.fit(x_train_norm, y_train, epochs=n_train_epoch)"
   ]
  },
  {
   "cell_type": "code",
   "execution_count": 8,
   "id": "aa49730a",
   "metadata": {},
   "outputs": [
    {
     "name": "stdout",
     "output_type": "stream",
     "text": [
      "학습데이터(x_train)의 이미지 개수는 300 입니다.\n"
     ]
    }
   ],
   "source": [
    "# x_test, y_test를 만드는 방법은 x_train, y_train을 만드는 방법과 아주 유사합니다.\n",
    "image_dir_path = \"./test/test\"\n",
    "(x_test, y_test)=load_data([image_dir_path])\n",
    "x_test_norm = x_test/255.0   # 입력은 0~1 사이의 값으로 정규화"
   ]
  },
  {
   "cell_type": "code",
   "execution_count": 9,
   "id": "01cc0a08",
   "metadata": {},
   "outputs": [
    {
     "name": "stdout",
     "output_type": "stream",
     "text": [
      "19/19 [==============================] - 0s 2ms/step - loss: 4.3531 - accuracy: 0.6767\n",
      "test_loss: 4.35307502746582 \n",
      "test_accuracy: 0.6766666769981384\n"
     ]
    }
   ],
   "source": [
    "# 모델 시험\n",
    "test_loss, test_accuracy = model.evaluate(x_test_norm, y_test)\n",
    "print(\"test_loss: {} \".format(test_loss))\n",
    "print(\"test_accuracy: {}\".format(test_accuracy))"
   ]
  },
  {
   "cell_type": "markdown",
   "id": "734270fc",
   "metadata": {},
   "source": [
    "---\n",
    "# 회고\n",
    "\n",
    ">직접 찍은 데이터로만 학습했을 경우 과적합이 일어나 lms 노드의 데이터를 추가하여 학습을 진행하였습니다.\n",
    " 프로젝트를 진행하면서 인공지능에 대한 기본적인 이해를 할 수 있었습니다.\n",
    " 또한 구글의 teachable machine을 직접 다뤄볼 수 있어 좋았습니다."
   ]
  }
 ],
 "metadata": {
  "kernelspec": {
   "display_name": "Python 3 (ipykernel)",
   "language": "python",
   "name": "python3"
  },
  "language_info": {
   "codemirror_mode": {
    "name": "ipython",
    "version": 3
   },
   "file_extension": ".py",
   "mimetype": "text/x-python",
   "name": "python",
   "nbconvert_exporter": "python",
   "pygments_lexer": "ipython3",
   "version": "3.9.7"
  }
 },
 "nbformat": 4,
 "nbformat_minor": 5
}
